{
 "cells": [
  {
   "cell_type": "markdown",
   "metadata": {},
   "source": [
    "## Final Project Submission\n",
    "\n",
    "Please fill out:\n",
    "* Student name: **HARRIET NGOMO**\n",
    "* Student pace: **part time**\n",
    "* Scheduled project review date/time: \n",
    "* Instructor name: **DIANA MONGINA**\n",
    "* Blog post URL:\n"
   ]
  },
  {
   "cell_type": "markdown",
   "metadata": {},
   "source": [
    "# **Aviation Risk Analysis for Business Expansion** \n",
    "\n",
    "## **1. Introduction**\n",
    "### **1.1 Project Overview**  \n",
    "As our company expands into the aviation industry to diversify its portfolio, we face the challenge of entering a new sector with limited expertise. To ensure success, we must identify the lowest-risk aircraft for commercial and private operations. This analysis aims to evaluate aircraft risks, provide actionable insights, and guide the aviation division head in making informed purchasing decisions. \n",
    "\n",
    "### **1.2 Business Problem**  \n",
    "To mitigate potential risks and ensure informed investment decisions, we must analyze aviation accident data to determine which aircraft have the **lowest risk levels**. This analysis will help the head of the new aviation division make data-driven decisions on aircraft selection.\n",
    "\n",
    "### **1.3 Objectives**  \n",
    "\n",
    "#### **Main Objectives:**  \n",
    "1. **To analyze aviation accident data to identify aircraft types with the lowest risk levels.**  \n",
    "2. **To provide data-driven insights that will guide the company's investment decisions in the aviation industry.**  \n",
    "\n",
    "#### **Specific Objective:**  \n",
    "- **To determine key factors contributing to aviation accidents and assess their impact on different aircraft types.**  \n",
    "\n",
    "### **1.4 Expected Outcomes**  \n",
    "By the end of this analysis, we will generate **data-driven insights** that will help the company:  \n",
    "- Minimize financial and operational risks in the aviation industry.  \n",
    "- Select aircraft with a strong safety record.  \n",
    "- Make informed strategic decisions for commercial and private aviation operations.  "
   ]
  },
  {
   "cell_type": "markdown",
   "metadata": {},
   "source": [
    "# hello"
   ]
  },
  {
   "cell_type": "code",
   "execution_count": null,
   "metadata": {},
   "outputs": [],
   "source": []
  }
 ],
 "metadata": {
  "kernelspec": {
   "display_name": "Python (learn-env)",
   "language": "python",
   "name": "learn-env"
  },
  "language_info": {
   "codemirror_mode": {
    "name": "ipython",
    "version": 3
   },
   "file_extension": ".py",
   "mimetype": "text/x-python",
   "name": "python",
   "nbconvert_exporter": "python",
   "pygments_lexer": "ipython3",
   "version": "3.8.5"
  }
 },
 "nbformat": 4,
 "nbformat_minor": 4
}
